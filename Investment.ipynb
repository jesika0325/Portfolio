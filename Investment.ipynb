{
 "cells": [
  {
   "cell_type": "code",
   "execution_count": null,
   "metadata": {},
   "outputs": [],
   "source": [
    "# This Python 3 environment comes with many helpful analytics libraries installed\n",
    "# It is defined by the kaggle/python Docker image: https://github.com/kaggle/docker-python\n",
    "# For example, here's several helpful packages to load\n",
    "\n",
    "import numpy as np # linear algebra\n",
    "import pandas as pd # data processing, CSV file I/O (e.g. pd.read_csv)\n",
    "\n",
    "# Input data files are available in the read-only \"../input/\" directory\n",
    "# For example, running this (by clicking run or pressing Shift+Enter) will list all files under the input directory\n",
    "\n",
    "import os\n",
    "for dirname, _, filenames in os.walk('/kaggle/input'):\n",
    "    for filename in filenames:\n",
    "        print(os.path.join(dirname, filename))\n",
    "\n",
    "# You can write up to 20GB to the current directory (/kaggle/working/) that gets preserved as output when you create a version using \"Save & Run All\" \n",
    "# You can also write temporary files to /kaggle/temp/, but they won't be saved outside of the current session"
   ]
  },
  {
   "cell_type": "code",
   "execution_count": null,
   "metadata": {},
   "outputs": [],
   "source": [
    "df = pd.read_csv(\"Top_1000_Companies_Dataset.csv\")\n",
    "df.head()"
   ]
  },
  {
   "cell_type": "code",
   "execution_count": null,
   "metadata": {},
   "outputs": [],
   "source": [
    "df.info()\n",
    "df.describe()"
   ]
  },
  {
   "cell_type": "code",
   "execution_count": null,
   "metadata": {},
   "outputs": [],
   "source": [
    "duplicated_data = df.duplicated().any()\n",
    "duplicated_data"
   ]
  },
  {
   "cell_type": "code",
   "execution_count": null,
   "metadata": {},
   "outputs": [],
   "source": [
    "df.isnull().sum()"
   ]
  },
  {
   "cell_type": "code",
   "execution_count": null,
   "metadata": {},
   "outputs": [],
   "source": [
    "#drop accelerator, btype\n",
    "df = df.drop(['Accelerator', 'btype'], axis=1)"
   ]
  },
  {
   "cell_type": "code",
   "execution_count": null,
   "metadata": {},
   "outputs": [],
   "source": [
    "#Convert growth_percentage to float\n",
    "df['growth_percentage'] = df['growth_percentage'].str.rstrip('%').astype(float)"
   ]
  },
  {
   "cell_type": "code",
   "execution_count": null,
   "metadata": {},
   "outputs": [],
   "source": [
    "import re\n",
    "\n",
    "def convert_funding_to_numeric(funding_str):\n",
    "    if pd.isnull(funding_str):\n",
    "        return None\n",
    "    \n",
    "    # Regular expression pattern to match the desired formats\n",
    "    pattern = r'^([€£$CA])([\\d.]+)[MB]$'\n",
    "    \n",
    "    match = re.match(pattern, funding_str)\n",
    "    if match:\n",
    "        currency = match.group(1)\n",
    "        value = float(match.group(2))\n",
    "        if 'B' in funding_str:\n",
    "            multiplier = 1e9\n",
    "        elif 'M' in funding_str:\n",
    "            multiplier = 1e6\n",
    "        else:\n",
    "            return None\n",
    "        \n",
    "        if currency in ['$', 'CA']:\n",
    "            return value * multiplier\n",
    "        elif currency == '€':\n",
    "            # Convert Euros to dollars (approximate conversion rate)\n",
    "            return value * multiplier * 1.2  # Example conversion rate, adjust as needed\n",
    "        elif currency == '£':\n",
    "            # Convert British Pounds to dollars (approximate conversion rate)\n",
    "            return value * multiplier * 1.4  # Example conversion rate, adjust as needed\n",
    "        \n",
    "    return None\n",
    "\n",
    "df['total_funding'] = df['total_funding'].apply(convert_funding_to_numeric)\n",
    "\n",
    "# Display the DataFrame\n",
    "df.head()\n",
    "\n",
    "# Display the DataFrame\n",
    "df.head()"
   ]
  },
  {
   "cell_type": "code",
   "execution_count": null,
   "metadata": {},
   "outputs": [],
   "source": [
    "import matplotlib.pyplot as plt\n",
    "import seaborn as sns\n",
    "\n",
    "features =['valuation', 'estimated_revenues', 'total_funding', 'growth_percentage']\n",
    "# Visualize distributions\n",
    "plt.figure(figsize=(12,6))\n",
    "for i, feature in enumerate(features, 1):\n",
    "    plt.subplot(1, len(features), i)\n",
    "    plt.hist(df[feature].dropna(), bins=20, color='blue', alpha=0.7)\n",
    "    plt.title(f'Distribution of {feature.capitalize()}')\n",
    "    plt.xlabel(feature.capitalize())\n",
    "plt.tight_layout()\n",
    "plt.show()"
   ]
  },
  {
   "cell_type": "code",
   "execution_count": null,
   "metadata": {},
   "outputs": [],
   "source": [
    "#Scatter plot\n",
    "sns.pairplot(df[features].dropna(), diag_kind='kde')\n",
    "plt.title('Scatter Plot Matrix', y=1.02)\n",
    "plt.show()"
   ]
  },
  {
   "cell_type": "code",
   "execution_count": null,
   "metadata": {},
   "outputs": [],
   "source": [
    "import plotly.express as px\n",
    "\n",
    "industry_count = df['Industry'].value_counts()\n",
    "industry_df = pd.DataFrame({'Industry': industry_count.index, 'Company Counts': industry_count.values})\n",
    "industry_df = industry_df.sort_values(by='Company Counts', ascending=False)\n",
    "\n",
    "fig = px.treemap(industry_df, path=['Industry'], values='Company Counts', title='Distribution of Companies Across Industries')\n",
    "fig.update_layout(margin=dict(t=50, l=0, r=0, b=0))  \n",
    "fig.show()"
   ]
  },
  {
   "cell_type": "code",
   "execution_count": null,
   "metadata": {},
   "outputs": [],
   "source": [
    "#Top 10 industries\n",
    "top_industries = df.dropna().groupby('Industry')['valuation'].mean().nlargest(10).reset_index()\n",
    "print(top_industries.head(10))\n",
    "\n",
    "plt.figure(figsize=(10,6))\n",
    "sns.barplot(data=top_industries, x='Industry', y='valuation', palette='rocket')\n",
    "plt.title('Top 10 Industries with Higest Average Valuation')\n",
    "plt.xticks(rotation=45)\n",
    "plt.show()"
   ]
  },
  {
   "cell_type": "code",
   "execution_count": null,
   "metadata": {},
   "outputs": [],
   "source": [
    "filtered_df = df[df['Industry'].isin(top_industries['Industry'])]\n",
    "plt.figure(figsize=(10, 6))\n",
    "sns.boxplot(data=filtered_df, x='Industry', y='valuation')\n",
    "plt.xticks(rotation=45)\n",
    "plt.title('Valuation Distribution by Industry')\n",
    "plt.show()"
   ]
  },
  {
   "cell_type": "code",
   "execution_count": null,
   "metadata": {},
   "outputs": [],
   "source": [
    "#Top 10 companies with highest valuation \n",
    "key_features = ['total_funding', 'estimated_revenues', 'growth_percentage']\n",
    "top_10_company = df.dropna().nlargest(10, 'valuation')\n",
    "for i in key_features:\n",
    "    plt.figure(figsize=(10,6))\n",
    "    sns.barplot(data=top_10_company, x='company_name', y=i, palette='viridis')\n",
    "    plt.title(f'{i} of Top 10 Companies with Highest Valuation')\n",
    "plt.xticks(rotation=45)\n",
    "plt.show()"
   ]
  },
  {
   "cell_type": "code",
   "execution_count": null,
   "metadata": {},
   "outputs": [],
   "source": [
    "df['country'] = df['country'].replace('USA', 'United States')\n",
    "geo_df = df.groupby(['country', 'state', 'city']).size().reset_index(name='count')\n",
    "\n",
    "fig = px.treemap(geo_df, path=['country', 'state', 'city'], values='count',\n",
    "                 labels={'city': 'City', 'state':'State','country':'Country', 'count':'Number of Companies'},\n",
    "                 title='Hierarchical Treemap: Companies by Country, State, and City')\n",
    "                \n",
    "fig.show()"
   ]
  },
  {
   "cell_type": "code",
   "execution_count": null,
   "metadata": {},
   "outputs": [],
   "source": [
    "import plotly.express as px\n",
    "\n",
    "# Create a DataFrame with top 20 countries and their total valuation\n",
    "top_countries = df.groupby('country')['valuation'].sum().nlargest(20).reset_index()\n",
    "\n",
    "# Calculate company counts by country\n",
    "company_count_by_country = df['country'].value_counts().reset_index()\n",
    "company_count_by_country.columns = ['country', 'company_count']\n",
    "\n",
    "# Merge company counts into the top_countries DataFrame\n",
    "top_countries = top_countries.merge(company_count_by_country, on='country')\n",
    "\n",
    "# Create the choropleth map\n",
    "fig = px.choropleth(top_countries, \n",
    "                    locations='country', \n",
    "                    locationmode='country names',\n",
    "                    color='valuation',\n",
    "                    hover_name='country',\n",
    "                    hover_data=['company_count'],  # Add company count to hover information\n",
    "                    color_continuous_scale=px.colors.sequential.Plasma,\n",
    "                    title='Choropleth Map of Top 20 Countries by Total Valuation')\n",
    "\n",
    "# Custom hover template\n",
    "hover_template = '<b>%{hovertext}</b><br>' + \\\n",
    "                 'Valuation: $%{z:.2f}<br>' + \\\n",
    "                 'Company Count: %{customdata}'\n",
    "fig.update_traces(hovertemplate=hover_template)\n",
    "\n",
    "fig.show()"
   ]
  },
  {
   "cell_type": "code",
   "execution_count": null,
   "metadata": {},
   "outputs": [],
   "source": [
    "# Correlation\n",
    "corr_matrix = df[features].dropna().corr()\n",
    "\n",
    "plt.figure(figsize=(10,6))\n",
    "sns.heatmap(corr_matrix, annot=True, cmap='coolwarm', center=0)\n",
    "plt.title('Correlation Matrix')\n",
    "plt.show()"
   ]
  },
  {
   "cell_type": "code",
   "execution_count": null,
   "metadata": {},
   "outputs": [],
   "source": [
    "# Define criteria\n",
    "port_criteria = ['company_name', 'valuation', 'growth_percentage']"
   ]
  },
  {
   "cell_type": "code",
   "execution_count": null,
   "metadata": {},
   "outputs": [],
   "source": [
    "# Filter and sort companies\n",
    "port_company = df.sort_values(by=port_criteria, ascending=False).head(10)"
   ]
  },
  {
   "cell_type": "code",
   "execution_count": null,
   "metadata": {},
   "outputs": [],
   "source": [
    "# Group companies by industry and select top company from each industry\n",
    "port_company = port_company.groupby('Industry', group_keys=False).apply(lambda x: x.nlargest(1, 'valuation'))"
   ]
  },
  {
   "cell_type": "code",
   "execution_count": null,
   "metadata": {},
   "outputs": [],
   "source": [
    "print(\"Selected Portforlio Companies:\")\n",
    "print(port_company[['company_name', 'valuation', 'growth_percentage']])"
   ]
  },
  {
   "cell_type": "code",
   "execution_count": null,
   "metadata": {},
   "outputs": [],
   "source": [
    "# Calculate allocation for each company\n",
    "total_invest = 1000000\n",
    "port_company['allocation'] = (port_company['valuation']/port_company['valuation'].sum()) * total_invest\n",
    "\n",
    "print(\"\\nAllocation for Each Company:\")\n",
    "print(port_company[['company_name', 'allocation']])"
   ]
  },
  {
   "cell_type": "code",
   "execution_count": null,
   "metadata": {},
   "outputs": [],
   "source": [
    "import numpy as np\n",
    "from scipy.optimize import minimize\n",
    "\n",
    "# Calculate log returns for each company\n",
    "log_returns = np.log(1 + port_company['growth_percentage'] / 100)\n",
    "# Calculate portfolio expected return and volatility\n",
    "weights = port_company['allocation'] / total_invest\n",
    "portfolio_return = np.sum(weights * log_returns.mean())\n",
    "\n",
    "# Calculate covariance matrix\n",
    "cov_matrix = np.cov(log_returns, rowvar=False)\n",
    "\n",
    "# Calculate portfolio volatility\n",
    "portfolio_volatility = np.sqrt(np.dot(weights.T, np.dot(cov_matrix, weights)))\n",
    "\n",
    "print(\"\\nPortfolio Expected Return:\", portfolio_return)\n",
    "print(\"Portfolio Volatility:\", portfolio_volatility)"
   ]
  },
  {
   "cell_type": "code",
   "execution_count": null,
   "metadata": {},
   "outputs": [],
   "source": [
    "# Define the objective function for portfolio optimization\n",
    "def objective(weights):\n",
    "    port_return = np.sum(weights * log_returns.mean())\n",
    "    port_volatility = np.sqrt(np.dot(weights.T, np.dot(np.cov(log_returns, rowvar=False), weights)))\n",
    "    return -port_return / port_volatility"
   ]
  },
  {
   "cell_type": "code",
   "execution_count": null,
   "metadata": {},
   "outputs": [],
   "source": [
    "# Define constraints and initial weights\n",
    "constraints = tuple((0, 1) for _ in range(len(port_company)))\n",
    "initial_weights = np.ones(len(port_company)) / len(port_company)"
   ]
  },
  {
   "cell_type": "code",
   "execution_count": null,
   "metadata": {},
   "outputs": [],
   "source": [
    "# Portfolio optimization\n",
    "result = minimize(objective, initial_weights, method='SLSQP', bounds=constraints)\n",
    "optimal_weights = result.x"
   ]
  },
  {
   "cell_type": "code",
   "execution_count": null,
   "metadata": {},
   "outputs": [],
   "source": [
    "print(\"\\nOptimal Portfolio Allocation:\")\n",
    "for i in range(len(port_company)):\n",
    "    print(f\"{port_company['company_name'].iloc[i]}: {optimal_weights[i]:.2%}\")"
   ]
  },
  {
   "cell_type": "code",
   "execution_count": null,
   "metadata": {},
   "outputs": [],
   "source": []
  }
 ],
 "metadata": {
  "kernelspec": {
   "display_name": "Python 3",
   "language": "python",
   "name": "python3"
  },
  "language_info": {
   "codemirror_mode": {
    "name": "ipython",
    "version": 3
   },
   "file_extension": ".py",
   "mimetype": "text/x-python",
   "name": "python",
   "nbconvert_exporter": "python",
   "pygments_lexer": "ipython3",
   "version": "3.12.0"
  }
 },
 "nbformat": 4,
 "nbformat_minor": 2
}
